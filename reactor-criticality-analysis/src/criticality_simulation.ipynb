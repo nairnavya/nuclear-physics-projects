{
 "cells": [
  {
   "cell_type": "markdown",
   "metadata": {},
   "source": [
    "## 1. Data Loading and Parsing"
   ]
  },
  {
   "cell_type": "code",
   "execution_count": null,
   "metadata": {},
   "outputs": [],
   "source": [
    "# Cell: Imports + parsing\n",
    "import numpy as np\n",
    "import re\n",
    "import os\n",
    "\n",
    "def load_groups_from_csv(path=\"../data/input/simulation_parameters.csv\"):\n",
    "    with open(path, 'r') as fp:\n",
    "        raw_lines = fp.readlines()\n",
    "\n",
    "    groups = {}\n",
    "    idx = 0\n",
    "    while idx < len(raw_lines):\n",
    "        line = raw_lines[idx].strip()\n",
    "        m = re.match(r\"#\\s*(\\d+)-group\", line)\n",
    "        if m:\n",
    "            G = int(m.group(1))\n",
    "            needed = G + 3\n",
    "            vals = []\n",
    "            idx += 1\n",
    "            while len(vals) < needed and idx < len(raw_lines):\n",
    "                row = raw_lines[idx].strip()\n",
    "                if row and not row.startswith('#'):\n",
    "                    vals.append([float(v) for v in row.split(',')])\n",
    "                idx += 1\n",
    "            sigma_a    = np.array(vals[0])\n",
    "            nu_sigma_f = np.array(vals[1])\n",
    "            chi        = np.array(vals[2])\n",
    "            scattering = np.array(vals[3:])\n",
    "            groups[G] = dict(sigma_a=sigma_a,\n",
    "                             nu_sigma_f=nu_sigma_f,\n",
    "                             chi=chi,\n",
    "                             scattering=scattering)\n",
    "            continue\n",
    "        idx += 1\n",
    "\n",
    "    return groups\n"
   ]
  },
  {
   "cell_type": "markdown",
   "metadata": {},
   "source": [
    "## 2. Matrix Construction"
   ]
  },
  {
   "cell_type": "code",
   "execution_count": null,
   "metadata": {},
   "outputs": [],
   "source": [
    "# Cell: Build M, F, B\n",
    "def assemble_B(data):\n",
    "    sa = data['sigma_a']\n",
    "    nu_f = data['nu_sigma_f']\n",
    "    chi = data['chi']\n",
    "    S = data['scattering']\n",
    "    G = len(sa)\n",
    "\n",
    "\n",
    "    A = np.diag(sa)\n",
    "\n",
    "    col_sums = S.sum(axis=0)\n",
    "    S_out = np.diag(col_sums - np.diag(S))\n",
    "\n",
    "    S_in = S - np.diag(np.diag(S))\n",
    "\n",
    "    M = A + S_out - S_in\n",
    "\n",
    "    F = np.outer(chi, nu_f)\n",
    "\n",
    "    B = np.linalg.solve(M, F)  \n",
    "\n",
    "    return M, F, B\n"
   ]
  },
  {
   "cell_type": "code",
   "execution_count": null,
   "metadata": {},
   "outputs": [],
   "source": [
    "# Cell: Direct eigen-solve\n",
    "def direct_solve(B):\n",
    "    eigen_vals, eigen_vecs = np.linalg.eig(B)\n",
    "    return eigen_vals, eigen_vecs\n",
    "\n",
    "eigvals2, eigvecs2 = direct_solve(B)\n"
   ]
  },
  {
   "cell_type": "markdown",
   "metadata": {},
   "source": [
    "## 3. Power Iteration Method"
   ]
  },
  {
   "cell_type": "code",
   "execution_count": null,
   "metadata": {},
   "outputs": [],
   "source": [
    "# Cell: Power iteration\n",
    "def power_iter(B, iterations=10, tol=1e-8):\n",
    "    n = B.shape[0]\n",
    "    phi = np.ones(n)\n",
    "    phi /= np.linalg.norm(phi)\n",
    "\n",
    "    for k in range(1, iterations+1):\n",
    "        y = B @ phi\n",
    "        phi = y / np.linalg.norm(y)\n",
    "        k_est = phi @ (B @ phi)\n",
    "        residual = np.linalg.norm(B @ phi - k_est*phi)\n",
    "        print(f\"  iter {k:2d}: k = {k_est:.6f}, φ = {phi}\")\n",
    "        if residual < tol:\n",
    "            break\n",
    "\n",
    "    return k_est, phi\n",
    "\n"
   ]
  },
  {
   "cell_type": "markdown",
   "metadata": {},
   "source": [
    "## 4. Results"
   ]
  },
  {
   "cell_type": "code",
   "execution_count": null,
   "metadata": {},
   "outputs": [
    {
     "name": "stdout",
     "output_type": "stream",
     "text": [
      "  iter  1: k = 0.998927, φ = [0.97732278 0.21175502]\n",
      "  iter  1: k = 1.090021, φ = [0.26158751 0.34412425 0.78197964 0.28035528 0.22326386 0.11761133\n",
      " 0.10448046 0.22014515]\n",
      "All results saved to /Users/navyanair/Desktop/final_cp2_output.txt\n"
     ]
    }
   ],
   "source": [
    "# Cell: Full loop + write out\n",
    "if __name__ == \"__main__\":\n",
    "    out_path = \"final_cp2_output.txt\"\n",
    "    with open(\"../data/output/simulation_results.txt\", 'w') as outf:\n",
    "        for G in sorted(blocks):\n",
    "            M, F, B = assemble_B(blocks[G])\n",
    "            vals, vecs = direct_solve(B)\n",
    "            k_dom, phi_dom = power_iter(B, iterations=5)\n",
    "\n",
    "            outf.write(f\"--- {G}-group problem ---\\n\")\n",
    "            outf.write(f\"Sigma_a:      {blocks[G]['sigma_a'].tolist()}\\n\")\n",
    "            outf.write(f\"nuSigma_f:    {blocks[G]['nu_sigma_f'].tolist()}\\n\")\n",
    "            outf.write(f\"chi:          {blocks[G]['chi'].tolist()}\\n\")\n",
    "            outf.write(\"Scattering:\\n\" + np.array2string(blocks[G]['scattering']) + \"\\n\")\n",
    "            outf.write(\"Migration M:\\n\"  + np.array2string(M) + \"\\n\")\n",
    "            outf.write(\"Fission   F:\\n\"  + np.array2string(F) + \"\\n\")\n",
    "            outf.write(\"B matrix:\\n\"    + np.array2string(B) + \"\\n\")\n",
    "            outf.write(f\"Eigenvalues:    {vals.tolist()}\\n\")\n",
    "            outf.write(\"Eigenvectors:\\n\" + np.array2string(vecs) + \"\\n\")\n",
    "            outf.write(f\"Power-iter k:   {k_dom}\\n\")\n",
    "            outf.write(f\"Power-iter φ:   {phi_dom}\\n\\n\")\n",
    "\n",
    "    print(f\"All results saved to {os.path.abspath(out_path)}\")\n"
   ]
  }
 ],
 "metadata": {
  "kernelspec": {
   "display_name": "Python 3",
   "language": "python",
   "name": "python3"
  },
  "language_info": {
   "codemirror_mode": {
    "name": "ipython",
    "version": 3
   },
   "file_extension": ".py",
   "mimetype": "text/x-python",
   "name": "python",
   "nbconvert_exporter": "python",
   "pygments_lexer": "ipython3",
   "version": "3.9.6"
  }
 },
 "nbformat": 4,
 "nbformat_minor": 2
}
